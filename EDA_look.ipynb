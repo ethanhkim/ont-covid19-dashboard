{
 "metadata": {
  "language_info": {
   "codemirror_mode": {
    "name": "ipython",
    "version": 3
   },
   "file_extension": ".py",
   "mimetype": "text/x-python",
   "name": "python",
   "nbconvert_exporter": "python",
   "pygments_lexer": "ipython3",
   "version": "3.7.6-final"
  },
  "orig_nbformat": 2,
  "kernelspec": {
   "name": "python3",
   "display_name": "Python 3",
   "language": "python"
  }
 },
 "nbformat": 4,
 "nbformat_minor": 2,
 "cells": [
  {
   "cell_type": "code",
   "execution_count": 1,
   "metadata": {},
   "outputs": [],
   "source": [
    "import pandas as pd \n",
    "df = pd.read_csv('https://data.ontario.ca/dataset/f4f86e54-872d-43f8-8a86-3892fd3cb5e6/resource/ed270bb8-340b-41f9-a7c6-e8ef587e6d11/download/covidtestin')\n",
    "\n",
    "# Rename lengthier column names\n",
    "df_formatted = df.rename(columns = {\"Percent positive tests in last day\": \"Percent_positive_tests\", \n",
    "                                    \"Number of patients hospitalized with COVID-19\": \"Number_hospitalized\",\n",
    "                                    \"Number of patients in ICU on a ventilator with COVID-19\": \"Number_ICU_ventilator\",\n",
    "                                    \"Number of patients in ICU with COVID-19\": \"Number_ICU\",\n",
    "                                    \"Reported Date\": \"Date\"})\n",
    "\n",
    "# Select columns\n",
    "df_formatted_subset = df_formatted[[\"Date\", \"Confirmed Positive\", \"Resolved\", \"Deaths\", \"Total Cases\", \"Percent_positive_tests\", \"Number_hospitalized\", \"Number_ICU\", \"Number_ICU_ventilator\"]]\n"
   ]
  },
  {
   "cell_type": "code",
   "execution_count": 2,
   "metadata": {},
   "outputs": [
    {
     "output_type": "error",
     "ename": "IndentationError",
     "evalue": "expected an indented block (<ipython-input-2-d9e79e3b9b81>, line 10)",
     "traceback": [
      "\u001b[0;36m  File \u001b[0;32m\"<ipython-input-2-d9e79e3b9b81>\"\u001b[0;36m, line \u001b[0;32m10\u001b[0m\n\u001b[0;31m    df_formatted_subset[\"new_cases\"] = df_formatted_subset[\"Total Cases\"].diff()\u001b[0m\n\u001b[0m                      ^\u001b[0m\n\u001b[0;31mIndentationError\u001b[0m\u001b[0;31m:\u001b[0m expected an indented block\n"
     ]
    }
   ],
   "source": [
    "# Visuaize number of new confirmed positive cases per day\n",
    "\n",
    "import plotly\n",
    "\n",
    "# Create column of \n",
    "\n",
    "df_formatted_subset[\"new_cases\"] = df_formatted_subset[\"Total Cases\"].diff()\n",
    "df_formatted_subset[\"new_deaths\"] = df_formatted_subset[\"Deaths\"].diff()\n",
    "df_formatted_subset[\"new_hospitalizations\"] = df_formatted_subset[\"Number_hospitalized\"].diff()\n",
    "df_formatted_subset[\"new_ICU\"] = df_formatted_subset[\"Number_ICU\"].diff()\n",
    "df_formatted_subset[\"new_resolved\"] = df_formatted_subset[\"Resolved\"].diff()\n",
    "\n",
    "\n"
   ]
  },
  {
   "cell_type": "code",
   "execution_count": null,
   "metadata": {},
   "outputs": [],
   "source": []
  }
 ]
}